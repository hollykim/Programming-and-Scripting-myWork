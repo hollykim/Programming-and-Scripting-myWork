{
 "cells": [
  {
   "cell_type": "code",
   "execution_count": null,
   "metadata": {},
   "outputs": [],
   "source": [
    "numberOfQuestions = 5\n",
    "averageAge = 23.4\n",
    "debugMode = True\n",
    "name = \"joe\"\n",
    "ages = []\n",
    "months = ('Jan', 'Feb', 'Mar')\n",
    "book = {}\n",
    "stuff = [ 12 , 'Fred', False, {}]\n",
    "someone = dict(firstname = \"joe\")\n",
    "me = {\n",
    "\"firstName\" : \"Andrew\",\n",
    "\"teaching\" : [{\n",
    "\"courseName\" : \"programming\",\n",
    "\"semester\" : 1\n",
    "},{\n",
    "\"courseName\" : \"Data Representation\",\n",
    "\"semester\" : 2\n",
    "}\n",
    "]\n",
    "}"
   ]
  },
  {
   "cell_type": "markdown",
   "metadata": {},
   "source": [
    "# Programming and Scripting Lab Topic 05-Data Structures\n",
    "\n",
    "## quiz 1\n",
    "a. numberOfQuestions - int - O\n",
    "b. averageAge - float - O \n",
    "c. debugMode- boolean - O\n",
    "d. name - string - O \n",
    "e. ages - ? list? - O list \n",
    "f. months - list  - X tuple \n",
    "g. months[1] - string - O  \n",
    "h. book - set - X dic \n",
    "i. stuff - list - O \n",
    "j. stuff[2] - boolean - O\n",
    "k. someone - dictionary - O\n",
    "l. someone[\"firstname\"] - string - O\n",
    "m. me - dictrionary - O\n",
    "n. me[\"teaching\"] - dictionary - X list \n",
    "o. me[\"teaching\"][0][\"semester\"] - int (1) - O \n",
    "p is a trick question look at it carefully\n",
    "p. me[\"teaching\"][0][\"coursename\"] - error. it's not a coursename, it's courseName - O \n",
    "                                \n",
    "                                \n",
    "    \n",
    "\n",
    "\n",
    "\n",
    "\n",
    "             n\n",
    "                     \n",
    "                                \n",
    "                                \n",
    "\n"
   ]
  }
 ],
 "metadata": {
  "language_info": {
   "name": "python"
  }
 },
 "nbformat": 4,
 "nbformat_minor": 2
}
