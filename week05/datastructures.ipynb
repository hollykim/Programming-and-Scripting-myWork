{
 "cells": [
  {
   "cell_type": "code",
   "execution_count": null,
   "metadata": {},
   "outputs": [],
   "source": [
    "numberOfQuestions = 5\n",
    "averageAge = 23.4\n",
    "debugMode = True\n",
    "name = \"joe\"\n",
    "ages = []\n",
    "months = ('Jan', 'Feb', 'Mar')\n",
    "book = {}\n",
    "stuff = [ 12 , 'Fred', False, {}]\n",
    "someone = dict(firstname = \"joe\")\n",
    "me = {\n",
    "\"firstName\" : \"Andrew\",\n",
    "\"teaching\" : [{\n",
    "\"courseName\" : \"programming\",\n",
    "\"semester\" : 1\n",
    "},{\n",
    "\"courseName\" : \"Data Representation\",\n",
    "\"semester\" : 2\n",
    "}\n",
    "]\n",
    "}"
   ]
  },
  {
   "cell_type": "markdown",
   "metadata": {},
   "source": [
    "# Programming and Scripting Lab Topic 05-Data Structures\n",
    "\n",
    "## quiz 1\n",
    "a. numberOfQuestions - int - O\n",
    "\n",
    "b. averageAge - float - O \n",
    "\n",
    "c. debugMode- boolean - O\n",
    "\n",
    "d. name - string - O \n",
    "\n",
    "e. ages - ? list? - O list \n",
    "\n",
    "f. months - list  - X tuple \n",
    "\n",
    "g. months[1] - string - O  \n",
    "\n",
    "h. book - set - X dic \n",
    "\n",
    "i. stuff - list - O \n",
    "\n",
    "j. stuff[2] - boolean - O\n",
    "\n",
    "k. someone - dictionary - O\n",
    "\n",
    "l. someone[\"firstname\"] - string - O\n",
    "\n",
    "m. me - dictrionary - O\n",
    "\n",
    "n. me[\"teaching\"] - dictionary - X list \n",
    "\n",
    "o. me[\"teaching\"][0][\"semester\"] - int (1) - O \n",
    "\n",
    "p is a trick question look at it carefully\n",
    "\n",
    "p. me[\"teaching\"][0][\"coursename\"] - error. it's not a coursename, it's courseName - O \n",
    "                                \n",
    "                                \n",
    "                                \n",
    "                                \n",
    "\n"
   ]
  },
  {
   "cell_type": "code",
   "execution_count": 6,
   "metadata": {},
   "outputs": [
    {
     "name": "stdout",
     "output_type": "stream",
     "text": [
      "('May', 'Jun', 'Jul')\n",
      "Feb\n"
     ]
    }
   ],
   "source": [
    "# Quiz 2: Create a tuple that stores the months of the year, from that tuple create another tuple with just the summer months (May, June, July), \n",
    "#print out the summer months one at a tim \n",
    "# resource: https://www.tutorialspoint.com/How-we-can-use-Python-Tuple-within-a-Tuple#:~:text=A%20Tuple%20can%20be%20used,of%20that%20specific%20inner%20Tuple.\n",
    "# Author: Hyojin Kim\n",
    "\n",
    "months = (\n",
    "    \"Jan\",\n",
    "    \"Feb\",\n",
    "    \"Mar\",\n",
    "    \"Apr\",\n",
    "    \"May\",\n",
    "    \"Jun\",\n",
    "    \"Jul\",\n",
    "    \"Aug\",\n",
    "    \"Sep\",\n",
    "    \"Oct\",\n",
    "    \"Nov\",\n",
    "    \"Dec\"\n",
    ")\n",
    "\n",
    "summer = months[4], months[5], months[6]\n",
    "print (summer)\n",
    "print (months[1])"
   ]
  }
 ],
 "metadata": {
  "kernelspec": {
   "display_name": "base",
   "language": "python",
   "name": "python3"
  },
  "language_info": {
   "codemirror_mode": {
    "name": "ipython",
    "version": 3
   },
   "file_extension": ".py",
   "mimetype": "text/x-python",
   "name": "python",
   "nbconvert_exporter": "python",
   "pygments_lexer": "ipython3",
   "version": "3.11.5"
  }
 },
 "nbformat": 4,
 "nbformat_minor": 2
}
